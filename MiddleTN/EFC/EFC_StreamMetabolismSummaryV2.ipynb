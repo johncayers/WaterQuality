{
 "cells": [
  {
   "cell_type": "code",
   "execution_count": 3,
   "id": "5a835206",
   "metadata": {},
   "outputs": [
    {
     "name": "stderr",
     "output_type": "stream",
     "text": [
      "C:\\Users\\ayersj.VANDERBILT\\AppData\\Local\\Temp\\ipykernel_36196\\1513568167.py:29: SettingWithCopyWarning: \n",
      "A value is trying to be set on a copy of a slice from a DataFrame.\n",
      "Try using .loc[row_indexer,col_indexer] = value instead\n",
      "\n",
      "See the caveats in the documentation: https://pandas.pydata.org/pandas-docs/stable/user_guide/indexing.html#returning-a-view-versus-a-copy\n",
      "  data_filtered['xlow'] = data_filtered['GPP.mean'] - data_filtered['GPP.sd']\n",
      "C:\\Users\\ayersj.VANDERBILT\\AppData\\Local\\Temp\\ipykernel_36196\\1513568167.py:30: SettingWithCopyWarning: \n",
      "A value is trying to be set on a copy of a slice from a DataFrame.\n",
      "Try using .loc[row_indexer,col_indexer] = value instead\n",
      "\n",
      "See the caveats in the documentation: https://pandas.pydata.org/pandas-docs/stable/user_guide/indexing.html#returning-a-view-versus-a-copy\n",
      "  data_filtered['xhigh'] = data_filtered['GPP.mean'] + data_filtered['GPP.sd']\n",
      "C:\\Users\\ayersj.VANDERBILT\\AppData\\Local\\Temp\\ipykernel_36196\\1513568167.py:31: SettingWithCopyWarning: \n",
      "A value is trying to be set on a copy of a slice from a DataFrame.\n",
      "Try using .loc[row_indexer,col_indexer] = value instead\n",
      "\n",
      "See the caveats in the documentation: https://pandas.pydata.org/pandas-docs/stable/user_guide/indexing.html#returning-a-view-versus-a-copy\n",
      "  data_filtered['ylow'] = data_filtered['ER.mean'] - data_filtered['ER.sd']\n",
      "C:\\Users\\ayersj.VANDERBILT\\AppData\\Local\\Temp\\ipykernel_36196\\1513568167.py:32: SettingWithCopyWarning: \n",
      "A value is trying to be set on a copy of a slice from a DataFrame.\n",
      "Try using .loc[row_indexer,col_indexer] = value instead\n",
      "\n",
      "See the caveats in the documentation: https://pandas.pydata.org/pandas-docs/stable/user_guide/indexing.html#returning-a-view-versus-a-copy\n",
      "  data_filtered['yhigh'] = data_filtered['ER.mean'] + data_filtered['ER.sd']\n"
     ]
    }
   ],
   "source": [
    "import pandas as pd\n",
    "import matplotlib.pyplot as plt\n",
    "\n",
    "# Read the CSV data\n",
    "data = pd.read_csv(\"EFC_StreamMetabolismSummary.csv\", parse_dates=[\"Date\"], dayfirst=False)\n",
    "\n",
    "# Reshape data and calculate max/min values\n",
    "data_long = data.melt(id_vars=['Date', 'Device'], value_vars=['GPP.mean', 'ER.mean', 'NEP.mean'], \n",
    "                      var_name='Parameter', value_name='Value')\n",
    "data_long['Parameter'] = data_long['Parameter'].str.split('.').str[0]\n",
    "\n",
    "# Adjust based on standard deviations\n",
    "for index, row in data_long.iterrows():\n",
    "    original_index = index // 3\n",
    "    if row['Parameter'] == 'GPP':\n",
    "        data_long.at[index, 'max'] = row['Value'] + data.loc[original_index, 'GPP.sd']\n",
    "        data_long.at[index, 'min'] = row['Value'] - data.loc[original_index, 'GPP.sd']\n",
    "    elif row['Parameter'] == 'ER':\n",
    "        data_long.at[index, 'max'] = row['Value'] + data.loc[original_index, 'ER.sd']\n",
    "        data_long.at[index, 'min'] = row['Value'] - data.loc[original_index, 'ER.sd']\n",
    "    else:\n",
    "        data_long.at[index, 'max'] = row['Value'] + data.loc[original_index, 'NEP.sd']\n",
    "        data_long.at[index, 'min'] = row['Value'] - data.loc[original_index, 'NEP.sd']\n",
    "\n",
    "data_plot = data_long[['Date', 'Device', 'Parameter', 'Value', 'max', 'min']]\n",
    "\n",
    "# Filter data and plot \"GPP vs ER with Error Bars\"\n",
    "data_filtered = data[data['ER.mean'] < 50]\n",
    "data_filtered['xlow'] = data_filtered['GPP.mean'] - data_filtered['GPP.sd']\n",
    "data_filtered['xhigh'] = data_filtered['GPP.mean'] + data_filtered['GPP.sd']\n",
    "data_filtered['ylow'] = data_filtered['ER.mean'] - data_filtered['ER.sd']\n",
    "data_filtered['yhigh'] = data_filtered['ER.mean'] + data_filtered['ER.sd']\n",
    "\n",
    "# Plot \"Stream Metabolism with Error Bars\" for filtered data\n",
    "filtered_data_plot = data_plot[data_plot['Date'] != \"2022-10-25\"]\n",
    "\n",
    "# Group, transform\n",
    "data_mean = data_plot[data_plot['Parameter'] != \"NEP\"].groupby(['Date', 'Parameter']).mean().reset_index()\n",
    "data_mean.loc[data_mean['Parameter'] == \"ER\", 'Value'] = -data_mean['Value']\n"
   ]
  },
  {
   "cell_type": "code",
   "execution_count": 2,
   "id": "ef6e7541",
   "metadata": {},
   "outputs": [
    {
     "name": "stderr",
     "output_type": "stream",
     "text": [
      "C:\\Users\\ayersj.VANDERBILT\\AppData\\Local\\Temp\\ipykernel_36196\\3373544919.py:5: SettingWithCopyWarning: \n",
      "A value is trying to be set on a copy of a slice from a DataFrame.\n",
      "Try using .loc[row_indexer,col_indexer] = value instead\n",
      "\n",
      "See the caveats in the documentation: https://pandas.pydata.org/pandas-docs/stable/user_guide/indexing.html#returning-a-view-versus-a-copy\n",
      "  data_filtered['xlow'] = data_filtered['GPP.mean'] - data_filtered['GPP.sd']\n",
      "C:\\Users\\ayersj.VANDERBILT\\AppData\\Local\\Temp\\ipykernel_36196\\3373544919.py:6: SettingWithCopyWarning: \n",
      "A value is trying to be set on a copy of a slice from a DataFrame.\n",
      "Try using .loc[row_indexer,col_indexer] = value instead\n",
      "\n",
      "See the caveats in the documentation: https://pandas.pydata.org/pandas-docs/stable/user_guide/indexing.html#returning-a-view-versus-a-copy\n",
      "  data_filtered['xhigh'] = data_filtered['GPP.mean'] + data_filtered['GPP.sd']\n",
      "C:\\Users\\ayersj.VANDERBILT\\AppData\\Local\\Temp\\ipykernel_36196\\3373544919.py:7: SettingWithCopyWarning: \n",
      "A value is trying to be set on a copy of a slice from a DataFrame.\n",
      "Try using .loc[row_indexer,col_indexer] = value instead\n",
      "\n",
      "See the caveats in the documentation: https://pandas.pydata.org/pandas-docs/stable/user_guide/indexing.html#returning-a-view-versus-a-copy\n",
      "  data_filtered['ylow'] = data_filtered['ER.mean'] - data_filtered['ER.sd']\n",
      "C:\\Users\\ayersj.VANDERBILT\\AppData\\Local\\Temp\\ipykernel_36196\\3373544919.py:8: SettingWithCopyWarning: \n",
      "A value is trying to be set on a copy of a slice from a DataFrame.\n",
      "Try using .loc[row_indexer,col_indexer] = value instead\n",
      "\n",
      "See the caveats in the documentation: https://pandas.pydata.org/pandas-docs/stable/user_guide/indexing.html#returning-a-view-versus-a-copy\n",
      "  data_filtered['yhigh'] = data_filtered['ER.mean'] + data_filtered['ER.sd']\n"
     ]
    },
    {
     "ename": "NameError",
     "evalue": "name 'plt' is not defined",
     "output_type": "error",
     "traceback": [
      "\u001b[1;31m---------------------------------------------------------------------------\u001b[0m",
      "\u001b[1;31mNameError\u001b[0m                                 Traceback (most recent call last)",
      "\u001b[1;32m~\\AppData\\Local\\Temp\\ipykernel_36196\\3373544919.py\u001b[0m in \u001b[0;36m<cell line: 11>\u001b[1;34m()\u001b[0m\n\u001b[0;32m      9\u001b[0m \u001b[1;33m\u001b[0m\u001b[0m\n\u001b[0;32m     10\u001b[0m \u001b[1;31m# Plot \"GPP vs ER with Error Bars\"\u001b[0m\u001b[1;33m\u001b[0m\u001b[1;33m\u001b[0m\u001b[0m\n\u001b[1;32m---> 11\u001b[1;33m \u001b[0mplt\u001b[0m\u001b[1;33m.\u001b[0m\u001b[0mfigure\u001b[0m\u001b[1;33m(\u001b[0m\u001b[0mfigsize\u001b[0m\u001b[1;33m=\u001b[0m\u001b[1;33m(\u001b[0m\u001b[1;36m10\u001b[0m\u001b[1;33m,\u001b[0m \u001b[1;36m8\u001b[0m\u001b[1;33m)\u001b[0m\u001b[1;33m)\u001b[0m\u001b[1;33m\u001b[0m\u001b[1;33m\u001b[0m\u001b[0m\n\u001b[0m\u001b[0;32m     12\u001b[0m \u001b[1;32mfor\u001b[0m \u001b[0mdevice\u001b[0m\u001b[1;33m,\u001b[0m \u001b[0mcolor\u001b[0m \u001b[1;32min\u001b[0m \u001b[0mcolors\u001b[0m\u001b[1;33m.\u001b[0m\u001b[0mitems\u001b[0m\u001b[1;33m(\u001b[0m\u001b[1;33m)\u001b[0m\u001b[1;33m:\u001b[0m\u001b[1;33m\u001b[0m\u001b[1;33m\u001b[0m\u001b[0m\n\u001b[0;32m     13\u001b[0m     \u001b[0msubset\u001b[0m \u001b[1;33m=\u001b[0m \u001b[0mdata_filtered\u001b[0m\u001b[1;33m[\u001b[0m\u001b[0mdata_filtered\u001b[0m\u001b[1;33m[\u001b[0m\u001b[1;34m'Device'\u001b[0m\u001b[1;33m]\u001b[0m \u001b[1;33m==\u001b[0m \u001b[0mdevice\u001b[0m\u001b[1;33m]\u001b[0m\u001b[1;33m\u001b[0m\u001b[1;33m\u001b[0m\u001b[0m\n",
      "\u001b[1;31mNameError\u001b[0m: name 'plt' is not defined"
     ]
    }
   ],
   "source": [
    "# Step 2: Filter data and plot \"GPP vs ER with Error Bars\"\n",
    "data_filtered = data[data['ER.mean'] < 50]\n",
    "\n",
    "# Calculate error bars for plotting\n",
    "data_filtered['xlow'] = data_filtered['GPP.mean'] - data_filtered['GPP.sd']\n",
    "data_filtered['xhigh'] = data_filtered['GPP.mean'] + data_filtered['GPP.sd']\n",
    "data_filtered['ylow'] = data_filtered['ER.mean'] - data_filtered['ER.sd']\n",
    "data_filtered['yhigh'] = data_filtered['ER.mean'] + data_filtered['ER.sd']\n",
    "\n",
    "# Plot \"GPP vs ER with Error Bars\"\n",
    "plt.figure(figsize=(10, 8))\n",
    "for device, color in colors.items():\n",
    "    subset = data_filtered[data_filtered['Device'] == device]\n",
    "    plt.errorbar(subset['GPP.mean'], subset['ER.mean'], \n",
    "                 xerr=[subset['GPP.mean'] - subset['xlow'], subset['xhigh'] - subset['GPP.mean']],\n",
    "                 yerr=[subset['ER.mean'] - subset['ylow'], subset['yhigh'] - subset['ER.mean']],\n",
    "                 fmt='o', color=color, label=device)\n",
    "plt.show()\n"
   ]
  }
 ],
 "metadata": {
  "kernelspec": {
   "display_name": "Python 3 (ipykernel)",
   "language": "python",
   "name": "python3"
  },
  "language_info": {
   "codemirror_mode": {
    "name": "ipython",
    "version": 3
   },
   "file_extension": ".py",
   "mimetype": "text/x-python",
   "name": "python",
   "nbconvert_exporter": "python",
   "pygments_lexer": "ipython3",
   "version": "3.9.16"
  }
 },
 "nbformat": 4,
 "nbformat_minor": 5
}
